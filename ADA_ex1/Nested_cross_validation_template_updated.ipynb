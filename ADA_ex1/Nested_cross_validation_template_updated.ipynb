{
 "cells": [
  {
   "cell_type": "markdown",
   "metadata": {},
   "source": [
    "# 1. Nested cross-validation exercise\n",
    "\n",
    "- Milja Lempinen\n",
    "- 520600\n",
    "- mmlemp@utu.fi\n",
    "- This exercise was done partly in cooperation with Lauri Orava\n",
    "\n",
    "## Nested cross-validation for k-nearest neighbors <br>\n",
    "- Use Python 3 to program a nested leave-one-out cross-validation for the k-nearest neighbors (kNN) method so that the number of neighbours k is automatically selected from the set k = [3, 5, 7, 9, 11]. In other words, the base learning algorithm is kNN but the actual learning algorithm, whose prediction performance will be evaluated with nested CV, is kNN with automatic CV-based model selection (see the lectures and the pseudo codes presented on them for more info on this interpretation). \n",
    "- Compare the C-index produced by nested leave-one-out CV with normal leave-one-out cross-validation with the best value of k.  \n",
    "- As a kNN implementation, use the provided kNN and C-index functions in your exercise.\n",
    "- Use the CV implementations on the provided subsampled iris data (100 randomly drawn data points from iris) and report the resulting classification accuracy via C-index. Hint: you can use the nested CV example provided on sklearn documentation: https://scikit-learn.org/stable/auto_examples/model_selection/plot_nested_cross_validation_iris.html as a starting point, but do NOT use the ready made CV implementations of sklearn.\n",
    "\n",
    "As a summary, for completing this exercise implement the following steps: \n",
    "_______________________________________________________________\n",
    "#### 1. Use leave-one-out cross-validation for determining the optimal k-parameter for the data (X.csv, y.csv) from the set k = [3,5,7,9,11]. When you have solved the optimal k-parameter, save the corresponding C-index (call it loo_c_index) for this best value of k.\n",
    "#### 2. Similarly, use nested leave-one-out cross-validation (leave-one-out both in outer and inner folds) for determining the C-index (call it nloo_c_index) of the kNN + leave-one-out cross-validation based k selection  approach. \n",
    "#### 3. Return both this notebook and as a PDF-file made from it in the exercise submit page. \n",
    "_______________________________________________________________\n",
    "\n",
    "Remember to use the provided C-index and kNN functions in your implementation! "
   ]
  },
  {
   "cell_type": "markdown",
   "metadata": {},
   "source": [
    "## Import libraries"
   ]
  },
  {
   "cell_type": "code",
   "execution_count": 1,
   "metadata": {},
   "outputs": [],
   "source": [
    "#In this cell import all libraries you need. For example: \n",
    "import numpy as np\n",
    "import pandas as pd\n",
    "import scipy as sp\n",
    "import matplotlib.pyplot as plt\n",
    "import sklearn\n",
    "from sklearn import model_selection\n",
    "import time"
   ]
  },
  {
   "cell_type": "markdown",
   "metadata": {},
   "source": [
    "## Provided functions "
   ]
  },
  {
   "cell_type": "code",
   "execution_count": 2,
   "metadata": {},
   "outputs": [],
   "source": [
    "\"\"\"\n",
    "C-index function: \n",
    "- INPUTS: \n",
    "'y' an array of the true output values\n",
    "'yp' an array of predicted output values\n",
    "- OUTPUT: \n",
    "The c-index value\n",
    "\"\"\"\n",
    "def cindex(y, yp):\n",
    "    n = 0\n",
    "    h_num = 0 \n",
    "    for i in range(0, len(y)):\n",
    "        t = y[i]\n",
    "        p = yp[i]\n",
    "        for j in range(i+1, len(y)):\n",
    "            nt = y[j]\n",
    "            np = yp[j]\n",
    "            if (t != nt): \n",
    "                n = n + 1\n",
    "                if (p < np and t < nt) or (p > np and t > nt): \n",
    "                    h_num += 1\n",
    "                elif (p == np):\n",
    "                    h_num += 0.5\n",
    "    try:\n",
    "        return h_num/n\n",
    "    except ZeroDivisionError:\n",
    "        return h_num/0.5\n",
    "\n",
    "\"\"\"\n",
    "Self-contained k-nearest neighbor\n",
    "- INPUTS: \n",
    "'X_train' a numpy matrix of the X-features of the train data points\n",
    "'y_train' a numpy matrix of the output values of the train data points\n",
    "'X_test' a numpy matrix of the X-features of the test data points\n",
    "'k' the k-parameter integer value for kNN\n",
    "- OUTPUT: \n",
    "'y_predictions' a list of the output value predictions\n",
    "\"\"\"\n",
    "def knn(X_train, y_train, X_test, k):\n",
    "    y_train = np.array(y_train, dtype=int)\n",
    "    y_predictions = []\n",
    "    for test_ind in range(0, X_test.shape[0]):\n",
    "        #diff = X_test[test_ind, :].reshape(1, -1) - X_train\n",
    "        #Modified this, cause of object issues\n",
    "        diff = X_test[test_ind].reshape(1, -1) - X_train\n",
    "        distances = np.sqrt(np.sum(diff * diff, axis = 1))\n",
    "        sort_inds = np.array(np.argsort(distances), dtype=int)\n",
    "        counts = np.bincount(y_train[sort_inds[0:k]])\n",
    "        y_predictions.append(np.argmax(counts))\n",
    "    return y_predictions"
   ]
  },
  {
   "cell_type": "markdown",
   "metadata": {},
   "source": [
    "## Your implementation here"
   ]
  },
  {
   "cell_type": "code",
   "execution_count": 3,
   "metadata": {},
   "outputs": [],
   "source": [
    "# In this cell implement the required tasks with comments on the code.\n",
    "#Reading the csv-files into pandas dataframes\n",
    "X_path = 'X.csv'\n",
    "y_path = 'y.csv'\n",
    "X = pd.read_csv(X_path).to_numpy()\n",
    "y = pd.read_csv(y_path).to_numpy(dtype=int)"
   ]
  },
  {
   "cell_type": "code",
   "execution_count": 4,
   "metadata": {
    "scrolled": true
   },
   "outputs": [],
   "source": [
    "#loo-cv \n",
    "\"\"\"\n",
    "Get indices for leave one out -cross validation\n",
    "- INPUTS: \n",
    "'X' the feature matrix\n",
    "'y' the labels\n",
    "'n' number of loo iterations\n",
    "- OUTPUT: \n",
    "'train_indices' an array of indices for the train-data\n",
    "'test_indices' an array of indices for the test-data\n",
    "\"\"\"\n",
    "def loo_split(X):\n",
    "    X_indices = np.arange(0, len(X))\n",
    "    test_indices = []\n",
    "    train_indices = []\n",
    "    for i in range(0, len(X)):\n",
    "        test_indices.append(i)\n",
    "        train_indices.append(X_indices[np.arange(len(X))!=i])\n",
    "    return(train_indices, test_indices)\n",
    " "
   ]
  },
  {
   "cell_type": "code",
   "execution_count": 5,
   "metadata": {},
   "outputs": [],
   "source": [
    "#The set of possible k-values to be tested\n",
    "k = [3,5,7,9,11]"
   ]
  },
  {
   "cell_type": "code",
   "execution_count": 6,
   "metadata": {
    "scrolled": true
   },
   "outputs": [
    {
     "data": {
      "text/plain": [
       "(7, 0.9742804654011022, 0.06521773338317871)"
      ]
     },
     "execution_count": 6,
     "metadata": {},
     "output_type": "execute_result"
    }
   ],
   "source": [
    "#leave-one-out cross-validation with own loo_split\n",
    "def get_best_k_orig(X, y, k, loosplit):\n",
    "    t0 = time.time()\n",
    "    loo_c_index = 0\n",
    "    best_k = 0\n",
    "    \n",
    "    for i in k:  \n",
    "        yp = []\n",
    "        for j in range(0, len(X)):\n",
    "            X_train = X[loosplit[0][j]]\n",
    "            X_test = X[loosplit[1][j]].reshape(1, 4)\n",
    "            y_train = y[loosplit[0][j]].flatten()\n",
    "            y_test = y[loosplit[1][j]].flatten()\n",
    "            \n",
    "            yp.append(knn(X_train, y_train, X_test, i))\n",
    "            #print(model)\n",
    "\n",
    "        c_index = cindex(y, yp)\n",
    "\n",
    "        if c_index >= loo_c_index:\n",
    "            loo_c_index = c_index\n",
    "            best_k = i\n",
    "\n",
    "        #print('For k:' + str(i) + ' C-index is ' +str(c_index))\n",
    "\n",
    "    #print('Best C-index is ' + str(loo_c_index) + ' where k is ' + str(best_k))\n",
    "    t1 = time.time()\n",
    "    time_total = t1-t0\n",
    "    return(best_k, loo_c_index, time_total)\n",
    "\n",
    "loosplit = loo_split(X)\n",
    "get_best_k_orig(X, y, k, loosplit)"
   ]
  },
  {
   "cell_type": "code",
   "execution_count": 7,
   "metadata": {
    "scrolled": true
   },
   "outputs": [
    {
     "data": {
      "text/plain": [
       "(7, 0.9742804654011022, 0.06511998176574707)"
      ]
     },
     "execution_count": 7,
     "metadata": {},
     "output_type": "execute_result"
    }
   ],
   "source": [
    "#leave-one-out cross-validation with sklearn loo implementation\n",
    "def get_best_k(X, y, k, model):\n",
    "    t0 = time.time()\n",
    "    loo_c_index = 0\n",
    "    best_k = 0\n",
    "\n",
    "    for i in k:  \n",
    "        yp = []\n",
    "        for train_i, test_i in model.split(X):\n",
    "            X_train, X_test = X[train_i], X[test_i]\n",
    "            y_train, y_test = y[train_i].reshape(-1), y[test_i].reshape(-1)\n",
    "            \n",
    "            yp.append(knn(X_train, y_train, X_test, i))\n",
    "            #print(model)\n",
    "\n",
    "        c_index = cindex(y, yp)\n",
    "\n",
    "        if c_index >= loo_c_index:\n",
    "            loo_c_index = c_index\n",
    "            best_k = i\n",
    "\n",
    "        #print('For k:' + str(i) + ' C-index is ' +str(c_index))\n",
    "\n",
    "    #print('Best C-index is ' + str(loo_c_index) + ' where k is ' + str(best_k))\n",
    "    t1 = time.time()\n",
    "    time_total = t1-t0\n",
    "    return(best_k, loo_c_index, time_total)\n",
    "\n",
    "loo = sklearn.model_selection.LeaveOneOut()\n",
    "get_best_k(X, y, k, loo)"
   ]
  },
  {
   "cell_type": "code",
   "execution_count": 8,
   "metadata": {
    "scrolled": false
   },
   "outputs": [
    {
     "name": "stdout",
     "output_type": "stream",
     "text": [
      "C-index average is 0.9745928694670772\n",
      "This took 15.181504964828491 seconds.\n"
     ]
    }
   ],
   "source": [
    "#nested leave-one-out cross-validation using the sklearn loo-cv -objects\n",
    "\n",
    "nloo_c_index_l = []\n",
    "best_k = 0\n",
    "time_0 = time.time()\n",
    "for i in k:\n",
    "    inner_cv = sklearn.model_selection.LeaveOneOut()\n",
    "    outer_cv = sklearn.model_selection.LeaveOneOut()\n",
    "    yp = []\n",
    "    \n",
    "    #outer loop train-test sets\n",
    "    for train_i, test_i in outer_cv.split(X):\n",
    "        X_train, X_test = X[train_i], X[test_i]\n",
    "        y_train, y_test = y[train_i].reshape(-1), y[test_i].reshape(-1)\n",
    "        \n",
    "        #inner loop\n",
    "        best_ik, nloo_c_index, inner_time = get_best_k(X_train, y_train, k, inner_cv)\n",
    "        nloo_c_index_l.append(nloo_c_index)\n",
    "        \n",
    "        \n",
    "        \n",
    "\n",
    "        yp.append(knn(X_train, y_train, X_test, i))\n",
    "        #print(model)\n",
    "        \n",
    "    #print('For k:' + str(i) + ' C-index is ' +str(c_index))\n",
    "time_1 = time.time()\n",
    "time_total = time_1-time_0\n",
    "\n",
    "print('C-index average is ' + str(np.mean(nloo_c_index_l)))\n",
    "print('This took ' + str(time_total) + ' seconds.')"
   ]
  },
  {
   "cell_type": "code",
   "execution_count": 9,
   "metadata": {},
   "outputs": [
    {
     "name": "stdout",
     "output_type": "stream",
     "text": [
      "C-index average is 0.9745928694670772\n",
      "This took 12.41414999961853 seconds.\n"
     ]
    }
   ],
   "source": [
    "#With own loo-implementation\n",
    "\n",
    "nloo_c_index_l = []\n",
    "best_k = 0\n",
    "time_0 = time.time()\n",
    "for i in k:\n",
    "    outer_cv_split = loo_split(X)\n",
    "    yp = []\n",
    "    \n",
    "    #outer loop train-test sets\n",
    "    for train_i, test_i in outer_cv.split(X):\n",
    "        X_train, X_test = X[train_i], X[test_i]\n",
    "        y_train, y_test = y[train_i].reshape(-1), y[test_i].reshape(-1)\n",
    "        \n",
    "        #inner loop\n",
    "        inner_cv_split = loo_split(X_train)\n",
    "        best_ik, nloo_c_index, inner_time = get_best_k_orig(X_train, y_train, k, inner_cv_split)\n",
    "        nloo_c_index_l.append(nloo_c_index)\n",
    "        \n",
    "        \n",
    "        \n",
    "\n",
    "        yp.append(knn(X_train, y_train, X_test, i))\n",
    "        #print(model)\n",
    "        \n",
    "    #print('For k:' + str(i) + ' C-index is ' +str(c_index))\n",
    "time_1 = time.time()\n",
    "time_total = time_1-time_0\n",
    "    \n",
    "print('C-index average is ' + str(np.mean(nloo_c_index_l)))\n",
    "print('This took ' + str(time_total) + ' seconds.')"
   ]
  },
  {
   "cell_type": "markdown",
   "metadata": {},
   "source": [
    "The c-index produced by the nested leave-one-out cross-validation is a little bit better than the c-index we got from only one round of cross-validation. The time it took for the notebook to process the nested leave-one-out -implementation was way longer, even for a dataset this small. It is not most likely a good choice for datasets any larger."
   ]
  }
 ],
 "metadata": {
  "kernelspec": {
   "display_name": "Python 3",
   "language": "python",
   "name": "python3"
  },
  "language_info": {
   "codemirror_mode": {
    "name": "ipython",
    "version": 3
   },
   "file_extension": ".py",
   "mimetype": "text/x-python",
   "name": "python",
   "nbconvert_exporter": "python",
   "pygments_lexer": "ipython3",
   "version": "3.8.5"
  },
  "toc": {
   "base_numbering": 1,
   "nav_menu": {},
   "number_sections": false,
   "sideBar": true,
   "skip_h1_title": false,
   "title_cell": "Table of Contents",
   "title_sidebar": "Contents",
   "toc_cell": false,
   "toc_position": {},
   "toc_section_display": true,
   "toc_window_display": true
  },
  "varInspector": {
   "cols": {
    "lenName": 16,
    "lenType": 16,
    "lenVar": 40
   },
   "kernels_config": {
    "python": {
     "delete_cmd_postfix": "",
     "delete_cmd_prefix": "del ",
     "library": "var_list.py",
     "varRefreshCmd": "print(var_dic_list())"
    },
    "r": {
     "delete_cmd_postfix": ") ",
     "delete_cmd_prefix": "rm(",
     "library": "var_list.r",
     "varRefreshCmd": "cat(var_dic_list()) "
    }
   },
   "types_to_exclude": [
    "module",
    "function",
    "builtin_function_or_method",
    "instance",
    "_Feature"
   ],
   "window_display": false
  }
 },
 "nbformat": 4,
 "nbformat_minor": 2
}
