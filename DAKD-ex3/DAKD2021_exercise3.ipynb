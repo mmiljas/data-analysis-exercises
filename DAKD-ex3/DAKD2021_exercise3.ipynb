{
 "cells": [
  {
   "cell_type": "markdown",
   "metadata": {
    "id": "fRx75YvD3BPW"
   },
   "source": [
    "Milja Lempinen <br>\n",
    "520600 <br>\n",
    "mmlemp@utu.fi  <br>\n",
    "5.12.2021  <br>"
   ]
  },
  {
   "cell_type": "markdown",
   "metadata": {
    "id": "Rpio-nMAoDwq"
   },
   "source": [
    "# Data Analysis and Knowledge Discovery: Exercise 3, Supervised learning"
   ]
  },
  {
   "cell_type": "markdown",
   "metadata": {
    "id": "90c9fF6woDwr"
   },
   "source": [
    "This is the template for the third exercise. The idea of this exercise is to apply supervised learning to predict the ship type using certain attributes (speed, destination harbour...) and a K nearest neighbors (kNN) classifier.\n",
    "\n",
    "### General guidance for exercises \n",
    "\n",
    "- Answer **all** questions below, even if you can't get your script to fully work\n",
    "- Write clear and easily readable code, include explanations what your code does\n",
    "- Make informative illustrations: include labels for x and y axes, legends and captions for your plots\n",
    "- Before saving the ipynb file (and possible printing) run: \"Restart & Run all\", to make sure you return a file that works as expected.\n",
    "- Grading: *Fail*/*Pass*/*Pass with honors* (+1)\n",
    "- +1 bonus point (grading *Pass with honors*) requires a **completely** correct solution and also thorough analysis. \n",
    "- If you encounter problems, Google first. If you can't find an answer to the problem, don't hesitate to ask in the Moodle discussion or directly via moodle chat or email from the course assistant responsible for the exercise, Valtteri Nieminen, vajnie@utu.fi <font color = red></font>\n",
    "- Note! Don't leave it to the last moment! No feedback service during weekends.\n",
    "- The deadline is <font color = red> on 6.12, 19:00</font>\n",
    "- Using the colors for titles in markdown makes the document more readable and easier to check. "
   ]
  },
  {
   "cell_type": "markdown",
   "metadata": {},
   "source": [
    "- This excercise is a bit more freeform than the last one and you don't have to stick to only the cells that are already in the notebook - you can make more if you need to, but it is advisable to comment on new cells what the cell is related to. \n",
    "- There are also added summaries of whats included inthe subparts of exercises  just to help you get a better picture of what is required. You will still answer these excercises under their own titles."
   ]
  },
  {
   "cell_type": "markdown",
   "metadata": {
    "id": "2I2WLapM3BPc"
   },
   "source": [
    "### Gather **all** packages needed for this notebook here:\n",
    "- you can use other packages as well, but this excercise can be completed with those below"
   ]
  },
  {
   "cell_type": "code",
   "execution_count": 1,
   "metadata": {
    "id": "iypIAVquoDws"
   },
   "outputs": [],
   "source": [
    "import numpy as np\n",
    "import pandas as pd\n",
    "import seaborn as sb\n",
    "import matplotlib.pyplot as plt\n",
    "import math as math\n",
    "import sklearn as sklearn\n",
    "import random as random\n",
    "from sklearn.preprocessing import StandardScaler\n",
    "from sklearn.model_selection import train_test_split\n",
    "from sklearn.neighbors import KNeighborsClassifier\n",
    "from sklearn import metrics\n",
    "from sklearn.model_selection import LeaveOneOut"
   ]
  },
  {
   "cell_type": "markdown",
   "metadata": {
    "id": "ieiIXrrwoDws"
   },
   "source": [
    "________\n",
    "## <font color = dimgrey> Data import </font> \n"
   ]
  },
  {
   "cell_type": "code",
   "execution_count": 2,
   "metadata": {},
   "outputs": [],
   "source": [
    "data_path = \"https://raw.githubusercontent.com/vajnie/DADK_2021/main/shipdata_2021.csv\""
   ]
  },
  {
   "cell_type": "code",
   "execution_count": 3,
   "metadata": {
    "id": "_Swh8BxGoDwu",
    "outputId": "ea60da51-725b-443b-faad-2865fb9fc6db"
   },
   "outputs": [],
   "source": [
    "#Import the data here\n",
    "data = pd.read_csv(data_path) #data is presumed to be in the same folder. "
   ]
  },
  {
   "cell_type": "markdown",
   "metadata": {
    "id": "Wte8FnIsoDwv"
   },
   "source": [
    "_______________\n",
    "## <font color = dimgrey> 1) Data preprocessing\n",
    "Below are all the questions related to this topic, but you should put them under their own respective titles that are found below."
   ]
  },
  {
   "cell_type": "markdown",
   "metadata": {
    "id": "d9plIRaMoDww"
   },
   "source": [
    "- a) First, find out how many different destinations there are in the data. Do you need to make any preprocessing? **1p** <br>\n",
    "- b) Destination harbor is a categorical variable. It needs to be converted into a numerical representation. Explain, why do you need to make this step? You can use get_dummies from pandas to implement one-hot coding for categorical features **1p**\n",
    "\n",
    "- c) Plot Gross tonnage versus the ship Length. Use different colors for different ship types. According to the plot, there is one <b> clear outlier. </b>  Correct the outlying value by changing it to the value 326 and rerun the plot after you have made the correction. **1p**\n",
    "- d) It is good to exploit domain knowledge and make some reasonable transformation to the feature values to improve the expected results and/or to avoid redundancy. Find out what gross tonnage means. Make some transformation to Length values to acquire a linear relationship between the transformed length and Gross tonnage values. You can find the needed information  https://en.wikipedia.org/wiki/Gross_tonnage. Look at the formula and think how you can get the two variables similarly scaled. If you are having trouble, just experiment with different transformations before asking help. By plotting you can see what the relationship looks like after a transformation you have tried **1p**\n",
    "- e) The numerical variables have quite different ranges. To ensure that all variables can have the same importance on the model, perform Z-score standardization. Perform it for speed, the ***transformed length*** variable, and breadth **1p**\n",
    "_______________________"
   ]
  },
  {
   "cell_type": "markdown",
   "metadata": {
    "id": "hSCTfqgpoDwx"
   },
   "source": [
    "#### <font color = dimgrey> a) Find out how many different destinations there are in the data. Are there any mistakes and do you need to do any preprocessing? Give your code and answer below **1p** </font>"
   ]
  },
  {
   "cell_type": "code",
   "execution_count": 4,
   "metadata": {
    "id": "akrvbi4xoDwy",
    "outputId": "b5e1d60a-2384-4dc4-de31-303cd0fdb7a6"
   },
   "outputs": [
    {
     "name": "stdout",
     "output_type": "stream",
     "text": [
      "17\n",
      "['Hamina' 'Helsinki' 'Kotka' 'Kronshtadt' 'Kunda' 'Muuga' 'Paldiski'\n",
      " 'Porvoo' 'Primorsk' 'Sillamäe' 'Sillamae' 'Tallinn' 'Ust-Luga'\n",
      " 'Valko-Loviisa' 'Viipuri' 'Vuosaari' 'Vysotsk']\n",
      "MMSI             0\n",
      "Speed            0\n",
      "COG              0\n",
      "Destination      0\n",
      "Ship_type        0\n",
      "Gross_tonnage    0\n",
      "Length           0\n",
      "Breadth          0\n",
      "dtype: int64\n"
     ]
    }
   ],
   "source": [
    "print(data['Destination'].nunique())\n",
    "print(data['Destination'].unique())\n",
    "\n",
    "print(data.isnull().sum())"
   ]
  },
  {
   "cell_type": "markdown",
   "metadata": {},
   "source": [
    "<font color = green> There are 17 different destinations, but the destination \"Sillamäe\" is in the dataframe twice, with different spelling. This needs to be corrected so that there is only one spelling. There are no null values in the data, which means that those need no correcting."
   ]
  },
  {
   "cell_type": "code",
   "execution_count": 5,
   "metadata": {},
   "outputs": [
    {
     "name": "stdout",
     "output_type": "stream",
     "text": [
      "['Hamina' 'Helsinki' 'Kotka' 'Kronshtadt' 'Kunda' 'Muuga' 'Paldiski'\n",
      " 'Porvoo' 'Primorsk' 'Sillamae' 'Tallinn' 'Ust-Luga' 'Valko-Loviisa'\n",
      " 'Viipuri' 'Vuosaari' 'Vysotsk']\n"
     ]
    }
   ],
   "source": [
    "#Correcting the spelling of \"Sillamäe\" to \"Sillamae\" to avoid any spelling-related issues.\n",
    "\n",
    "data['Destination'].replace(to_replace='Sillamäe', value='Sillamae', inplace=True)\n",
    "print(data['Destination'].unique())"
   ]
  },
  {
   "cell_type": "markdown",
   "metadata": {
    "id": "9BrZ_bsToDwy"
   },
   "source": [
    "____________\n",
    "#### <font color = dimgrey> b) Destination harbor is a categorical variable. It needs to be somehow converted into a numerical expression. Explain, why do you need to make this step? \n",
    "You can use get_dummies from pandas to implement onehot coding for categorical features **1p**"
   ]
  },
  {
   "cell_type": "code",
   "execution_count": 6,
   "metadata": {
    "id": "LrrstGzeoDwz",
    "outputId": "819497fd-43db-4a61-a100-af1cd5bb9085"
   },
   "outputs": [],
   "source": [
    "pd.get_dummies(data['Destination'], prefix='Destination')\n",
    "\n",
    "destination_dummies = pd.get_dummies(data['Destination'], prefix='Destination')\n",
    "data = pd.concat([data, destination_dummies], axis=1)"
   ]
  },
  {
   "cell_type": "markdown",
   "metadata": {},
   "source": [
    "<font color = green> Learning algorithms can't use categoricals. They need to be converted into easily accessible True/False statements."
   ]
  },
  {
   "cell_type": "markdown",
   "metadata": {
    "id": "3rEY4Vf6oDwz"
   },
   "source": [
    "_______________\n",
    "####  <font color = dimgrey> c) Plot Gross tonnage versus the ship Length. \n",
    "\n",
    "- Use different colors for different ship types. According to the plot, there is one <b> clear </b> outlier. <b> Correct the outlying value by changing it to the value 326 </b> and rerun the plot after you have made the correction. **1p**\n",
    "- If you want to do things very nicely you could wrap the plotting in a function so you don't paste the same code twice, but this is not required."
   ]
  },
  {
   "cell_type": "code",
   "execution_count": 7,
   "metadata": {},
   "outputs": [
    {
     "name": "stdout",
     "output_type": "stream",
     "text": [
      "['Cargo' 'Tanker' 'Tug']\n"
     ]
    }
   ],
   "source": [
    "print(data['Ship_type'].unique())"
   ]
  },
  {
   "cell_type": "code",
   "execution_count": 8,
   "metadata": {
    "id": "q2rk7xP1oDwz",
    "outputId": "fa2c0480-18c7-4e41-cc31-a77dc1cfa5ab",
    "scrolled": false
   },
   "outputs": [
    {
     "data": {
      "image/png": "[encoded data removed]",
      "text/plain": [
       "<Figure size 1440x720 with 1 Axes>"
      ]
     },
     "metadata": {
      "needs_background": "light"
     },
     "output_type": "display_data"
    }
   ],
   "source": [
    "colors = {'Cargo':'red', 'Tanker':'green', 'Tug':'blue'}\n",
    "plt.figure(figsize=(20,10))\n",
    "plt.ylabel('Gross tonnage')\n",
    "plt.xlabel('Ship length')\n",
    "plt.title('Lengths vs. Gross tonnages')\n",
    "plt.scatter(data=data, x='Length', y='Gross_tonnage', c=data['Ship_type'].map(colors))\n",
    "plt.show()"
   ]
  },
  {
   "cell_type": "code",
   "execution_count": 9,
   "metadata": {
    "id": "KbFj25Z1oDw0",
    "outputId": "4de8d8fe-b906-4f0d-afe5-a19468d2ecb3",
    "scrolled": true
   },
   "outputs": [
    {
     "name": "stdout",
     "output_type": "stream",
     "text": [
      "19        Tug\n",
      "37        Tug\n",
      "45        Tug\n",
      "48        Tug\n",
      "81        Tug\n",
      "82        Tug\n",
      "83     Tanker\n",
      "85        Tug\n",
      "86        Tug\n",
      "109       Tug\n",
      "Name: Ship_type, dtype: object\n"
     ]
    }
   ],
   "source": [
    "#Locating the data\n",
    "print(data.loc[data.Length<60, 'Ship_type'])"
   ]
  },
  {
   "cell_type": "code",
   "execution_count": 10,
   "metadata": {},
   "outputs": [
    {
     "name": "stdout",
     "output_type": "stream",
     "text": [
      "326\n"
     ]
    }
   ],
   "source": [
    "#Replacing the outlier\n",
    "data['Gross_tonnage'].replace(data['Gross_tonnage'].loc[83], 326, inplace=True)\n",
    "\n",
    "print(data['Gross_tonnage'].loc[83])"
   ]
  },
  {
   "cell_type": "code",
   "execution_count": 11,
   "metadata": {},
   "outputs": [
    {
     "data": {
      "image/png": "[encoded data removed]",
      "text/plain": [
       "<Figure size 1440x720 with 1 Axes>"
      ]
     },
     "metadata": {
      "needs_background": "light"
     },
     "output_type": "display_data"
    }
   ],
   "source": [
    "colors = {'Cargo':'red', 'Tanker':'green', 'Tug':'blue'}\n",
    "plt.figure(figsize=(20,10))\n",
    "plt.ylabel('Gross tonnage')\n",
    "plt.xlabel('Ship length')\n",
    "plt.title('Lengths vs. Gross tonnages')\n",
    "plt.scatter(data=data, x='Length', y='Gross_tonnage', c=data['Ship_type'].map(colors))\n",
    "plt.show()"
   ]
  },
  {
   "cell_type": "markdown",
   "metadata": {
    "id": "SPBpWAZNoDw0"
   },
   "source": [
    "#### <font color = dimgrey> d) Exploit your domain knowledge and transform to improve the expected results and/or to avoid redundancy. \n",
    "- Find out what gross tonnage means. Make some transformation to Length values to acquire a linear relationship between the transformed length and Gross tonnage values. Plot the situation after the transformation **1p** \n",
    "- You can find the needed information in for example https://en.wikipedia.org/wiki/Gross_tonnage. Look at the formula and think how you can get the two variables similarly scaled. If you are having trouble, just experiment with different transformations before asking help. By plotting you can see what the relationship looks like after a transformation you have tried\n",
    "  "
   ]
  },
  {
   "cell_type": "code",
   "execution_count": 12,
   "metadata": {
    "id": "Zjf5fmb3oDw1",
    "outputId": "9eea64d6-470d-42fb-bd97-282b786c798f"
   },
   "outputs": [],
   "source": [
    "import scipy as sp\n",
    "from scipy import special\n",
    "# K=0.2+0.02*log_{10}(V)\n",
    "# V=(50*ln 10* GT)/(W(500,000,000,000*ln 10* GT)), W is Lambert W function\n",
    "# V=length*breadth*height\n",
    "\n",
    "volumes = []\n",
    "x = 0\n",
    "\n",
    "for i in data['Gross_tonnage']:\n",
    "    gt = data['Gross_tonnage'].loc[x]\n",
    "    V = (50*np.log(10)*gt)/(sp.special.lambertw((500000000000*np.log(10)*gt)))\n",
    "    volumes.append(V)\n",
    "    x+=1\n",
    "    \n",
    "k_s = []\n",
    "y = 0\n",
    "\n",
    "for i in volumes:\n",
    "    V = volumes[y]\n",
    "    k = 0.2+0.02*np.log10(V)\n",
    "    k_s.append(k)\n",
    "    y+=1\n",
    "\n",
    "\n",
    "#This did not work as planned, but at least I calculated the volumes and k:s so that might be useful someday"
   ]
  },
  {
   "cell_type": "code",
   "execution_count": 13,
   "metadata": {},
   "outputs": [],
   "source": [
    "#The easiest way to do the transformations:\n",
    "\n",
    "data['Transformed_length'] = (data['Length'])**3"
   ]
  },
  {
   "cell_type": "code",
   "execution_count": 14,
   "metadata": {},
   "outputs": [
    {
     "data": {
      "image/png": "[encoded data removed]",
      "text/plain": [
       "<Figure size 1440x720 with 1 Axes>"
      ]
     },
     "metadata": {
      "needs_background": "light"
     },
     "output_type": "display_data"
    }
   ],
   "source": [
    "colors = {'Cargo':'red', 'Tanker':'green', 'Tug':'blue'}\n",
    "plt.figure(figsize=(20,10))\n",
    "plt.ylabel('Gross tonnage')\n",
    "plt.xlabel('Ship length^3')\n",
    "plt.title('Transformed lengths vs. Gross tonnages')\n",
    "plt.scatter(data=data, x='Transformed_length', y='Gross_tonnage', c=data['Ship_type'].map(colors))\n",
    "plt.show()"
   ]
  },
  {
   "cell_type": "markdown",
   "metadata": {
    "id": "M5-BsrlKoDw1"
   },
   "source": [
    "<font color = green> Gross tonnage is a measurement that describes the ship's ability to carry cargo. It is calculated from the ship's volume, which makes the variable \"3-dimensional\" in a way. If we rise the length to power of 3, we achieve a more linear relationship with gross tonnage, which aids in comparing the two directly."
   ]
  },
  {
   "cell_type": "markdown",
   "metadata": {
    "id": "_0oDznjPoDw1"
   },
   "source": [
    "#### <font color = dimgrey> e) The numerical variables have quite different ranges. To ensure that all variables can have the same importance on the model, perform Z-score standardization. Perform it for speed, transformed length, and breadth **1p**"
   ]
  },
  {
   "cell_type": "code",
   "execution_count": 15,
   "metadata": {
    "id": "17g51D6NoDw2",
    "outputId": "ccfcf1cd-459c-4a8a-f3cd-ab711c1f9aea"
   },
   "outputs": [
    {
     "name": "stdout",
     "output_type": "stream",
     "text": [
      "          MMSI    Speed      COG Destination Ship_type  Gross_tonnage  Length  \\\n",
      "0    212209000  10.1377  64.3074      Hamina     Cargo           3416   94.91   \n",
      "1    212436000  13.5256  77.0755      Hamina    Tanker           6280  116.90   \n",
      "2    219082000   9.9416  74.6762      Hamina    Tanker           9980  141.20   \n",
      "3    219083000  11.6038  74.7529      Hamina    Tanker           9980  141.20   \n",
      "4    219426000  11.9203  56.3253      Hamina    Tanker           3219   99.90   \n",
      "..         ...      ...      ...         ...       ...            ...     ...   \n",
      "129  273374820  10.0396  74.6253     Vysotsk    Tanker           4979  139.90   \n",
      "130  273385070   9.3507  74.5454     Vysotsk    Tanker           4979  139.90   \n",
      "131  273388150   9.7668  68.7159     Vysotsk    Tanker           5075  140.85   \n",
      "132  636092755  11.1554  73.7013     Vysotsk    Tanker          23240  183.00   \n",
      "133  357100000  11.2703  59.3888     Vysotsk     Cargo          43717  229.04   \n",
      "\n",
      "     Breadth  Destination_Hamina  Destination_Helsinki  ...  \\\n",
      "0      15.34                   1                     0  ...   \n",
      "1      18.00                   1                     0  ...   \n",
      "2      21.90                   1                     0  ...   \n",
      "3      21.60                   1                     0  ...   \n",
      "4      15.00                   1                     0  ...   \n",
      "..       ...                 ...                   ...  ...   \n",
      "129    16.70                   0                     0  ...   \n",
      "130    16.94                   0                     0  ...   \n",
      "131    16.86                   0                     0  ...   \n",
      "132    27.37                   0                     0  ...   \n",
      "133    32.31                   0                     0  ...   \n",
      "\n",
      "     Destination_Sillamae  Destination_Tallinn  Destination_Ust-Luga  \\\n",
      "0                       0                    0                     0   \n",
      "1                       0                    0                     0   \n",
      "2                       0                    0                     0   \n",
      "3                       0                    0                     0   \n",
      "4                       0                    0                     0   \n",
      "..                    ...                  ...                   ...   \n",
      "129                     0                    0                     0   \n",
      "130                     0                    0                     0   \n",
      "131                     0                    0                     0   \n",
      "132                     0                    0                     0   \n",
      "133                     0                    0                     0   \n",
      "\n",
      "     Destination_Valko-Loviisa  Destination_Viipuri  Destination_Vuosaari  \\\n",
      "0                            0                    0                     0   \n",
      "1                            0                    0                     0   \n",
      "2                            0                    0                     0   \n",
      "3                            0                    0                     0   \n",
      "4                            0                    0                     0   \n",
      "..                         ...                  ...                   ...   \n",
      "129                          0                    0                     0   \n",
      "130                          0                    0                     0   \n",
      "131                          0                    0                     0   \n",
      "132                          0                    0                     0   \n",
      "133                          0                    0                     0   \n",
      "\n",
      "     Destination_Vysotsk  Speed_standardized  Breadth_standardized  \\\n",
      "0                      0           -0.160696             -0.487276   \n",
      "1                      0            1.574301             -0.219871   \n",
      "2                      0           -0.261122              0.172188   \n",
      "3                      0            0.590117              0.142030   \n",
      "4                      0            0.752202             -0.521456   \n",
      "..                   ...                 ...                   ...   \n",
      "129                    1           -0.210935             -0.350558   \n",
      "130                    1           -0.563732             -0.326431   \n",
      "131                    1           -0.350640             -0.334473   \n",
      "132                    1            0.360484              0.722077   \n",
      "133                    1            0.419326              1.218685   \n",
      "\n",
      "     Transformed_length_standardized  \n",
      "0                          -0.567175  \n",
      "1                          -0.404375  \n",
      "2                          -0.137417  \n",
      "3                          -0.137417  \n",
      "4                          -0.536029  \n",
      "..                               ...  \n",
      "129                        -0.154308  \n",
      "130                        -0.154308  \n",
      "131                        -0.141995  \n",
      "132                         0.588992  \n",
      "133                         1.879608  \n",
      "\n",
      "[134 rows x 27 columns]\n"
     ]
    }
   ],
   "source": [
    "#Standardizing one by one, saving to new columns\n",
    "\n",
    "data['Speed_standardized'] = (data['Speed']-data['Speed'].mean())/data['Speed'].std()\n",
    "data['Breadth_standardized'] = (data['Breadth']-data['Breadth'].mean())/data['Breadth'].std()\n",
    "data['Transformed_length_standardized'] = (data['Transformed_length']-data['Transformed_length'].mean())/data['Transformed_length'].std()\n",
    "\n",
    "data = data.drop('Transformed_length', axis=1)\n",
    "print(data)"
   ]
  },
  {
   "cell_type": "markdown",
   "metadata": {},
   "source": [
    "______________\n",
    "## <font color = lightcoral>2. Classification </font> "
   ]
  },
  {
   "cell_type": "markdown",
   "metadata": {
    "id": "7CqWZYx2oDw3"
   },
   "source": [
    "Predict the **ship type** using **speed, destination, transformed length, and breadth** as features. Find an estimation for the classification accuracy (number of correctly classified ships to the total number of ships) using **random training and test sets**. <br>\n",
    "\n",
    "Below is a summary of exercises for part 2\n",
    "- a) Produce training and test data **1p**\n",
    "     - Gather the normalized features and one-hot-coded destination columns as array __X__ (input variables), and the ship type as array **y** (output variable)     \n",
    "     - Divide the data randomly into training (80%) and test (20%) sets\n",
    "     - Do you need to use stratification? **Explain your decision**\n",
    "- b) Train the model and test its performance **1p**\n",
    "     - Use kNN classifier with k=3\n",
    "     - Print out the confusion matrix. How does the model perform with different ship types?\n",
    "     - What is the (total) classification accuracy?\n",
    " - Repeat the calculation 1000 times with different split of training/test data, and make a histogram of the results for classification accuracy **1p**\n",
    " - Discuss your results **1p**\n",
    " \n",
    " ______________"
   ]
  },
  {
   "cell_type": "markdown",
   "metadata": {
    "id": "mfq_3_WNoDw3"
   },
   "source": [
    "#### <font color = lightcoral> a) Produce training and test data 1p\n",
    "- Gather the normalized features and one-hot-coded destination columns as array X (input variables), and the ship type as array y (output variable)\n",
    "- Divide the data randomly into training (80%) and test (20%) sets\n",
    "- Do you need to use stratification? **Explain your decision**"
   ]
  },
  {
   "cell_type": "code",
   "execution_count": 16,
   "metadata": {
    "id": "h5p9ZVQBoDw3"
   },
   "outputs": [
    {
     "name": "stdout",
     "output_type": "stream",
     "text": [
      "(107, 19) (27, 19) (107,) (27,)\n"
     ]
    }
   ],
   "source": [
    "X = data.loc[:,'Destination_Hamina': 'Transformed_length_standardized']\n",
    "X = X.to_numpy()\n",
    "\n",
    "y = data['Ship_type'].to_numpy()\n",
    "\n",
    "X_train, X_test, y_train, y_test = sklearn.model_selection.train_test_split(X, y, test_size=0.2, stratify=y)\n",
    "print(X_train.shape, X_test.shape, y_train.shape, y_test.shape)"
   ]
  },
  {
   "cell_type": "markdown",
   "metadata": {
    "id": "daPc_o9boDw3"
   },
   "source": [
    "<font color = green> Stratification can be useful so that we get a representative training set. "
   ]
  },
  {
   "cell_type": "markdown",
   "metadata": {
    "id": "muqCazPIoDw4"
   },
   "source": [
    "_______________\n",
    "#### <font color = lightcoral> b) Train the model and test its performance 1p\n",
    "- Use a kNN classifier with k=3\n",
    "- Print out the confusion matrix. <br>\n",
    "- How does the model perform with different ship types? Where do you think the differences come from?<br>\n",
    "- What is the (total) classification accuracy?"
   ]
  },
  {
   "cell_type": "code",
   "execution_count": 17,
   "metadata": {
    "id": "NMR7Y2s6oDw4",
    "outputId": "33bd42f3-a25c-47de-cb12-908d698d08af"
   },
   "outputs": [
    {
     "name": "stdout",
     "output_type": "stream",
     "text": [
      "[[12  1  0]\n",
      " [ 4  8  0]\n",
      " [ 2  0  0]]\n",
      "0.7407407407407407\n"
     ]
    }
   ],
   "source": [
    "neigh = sklearn.neighbors.KNeighborsClassifier(n_neighbors=3)\n",
    "neigh.fit(X_train, y_train)\n",
    "predictions = neigh.predict(X_test)\n",
    "\n",
    "cm = sklearn.metrics.confusion_matrix(y_test, predictions, labels=['Cargo', 'Tanker', 'Tug'])\n",
    "accuracy = sklearn.metrics.accuracy_score(y_test,predictions)\n",
    "print(cm)\n",
    "print(accuracy)"
   ]
  },
  {
   "cell_type": "markdown",
   "metadata": {
    "id": "1ceztBiPoDw4"
   },
   "source": [
    "<font color = Green> The dataset is very small, which contributes to the low accuracy of the model and great variance between runs. It seems that it found no tugs at all, while it most accurately predicted cargo-ships."
   ]
  },
  {
   "cell_type": "markdown",
   "metadata": {
    "id": "gQfehqAioDw4"
   },
   "source": [
    "__________\n",
    "## 3. <font color = navy> Classification accuracy using leave-one-out cross validation"
   ]
  },
  {
   "cell_type": "markdown",
   "metadata": {
    "id": "DPZx-6JLoDw5"
   },
   "source": [
    "Again, predict the **ship type** using **speed, destination, transformed length, and breadth** of the ship as features. Find an estimation for the classification accuracy using *leave-one-out cross validation (LOO CV)*. <br>\n",
    "\n",
    " - a) Use leave-one-out cross validation to estimate the model performance **1p**\n",
    "     - Use kNN classifier with k=3\n",
    "     - What is the classification accuracy? Compare the result with the one you got in the previous task\n",
    " - b) Which method gives better evaluation of the performance of the classifier with this data set? Explain your choice **1p**"
   ]
  },
  {
   "cell_type": "code",
   "execution_count": 18,
   "metadata": {
    "id": "znHjVwKDoDw5",
    "outputId": "3b73cc4a-eef7-4e9e-be17-19d79df71033",
    "scrolled": false
   },
   "outputs": [
    {
     "name": "stdout",
     "output_type": "stream",
     "text": [
      "0.753731343283582\n"
     ]
    }
   ],
   "source": [
    "loo = sklearn.model_selection.LeaveOneOut()\n",
    "model = sklearn.neighbors.KNeighborsClassifier(n_neighbors=3)\n",
    "\n",
    "scores = sklearn.model_selection.cross_val_score(model, X, y, cv=loo, n_jobs=-1)\n",
    "\n",
    "print(np.mean(np.absolute(scores)))\n",
    "\n",
    "#neigh = sklearn.neighbors.KNeighborsClassifier(n_neighbors=3)\n",
    "#neigh.fit(X_train, y_train)\n",
    "#predictions = neigh.predict(X_test)\n",
    "\n",
    "#cm = sklearn.metrics.confusion_matrix(y_test, predictions, labels=['Cargo', 'Tanker', 'Tug'])\n",
    "#accuracy = sklearn.metrics.accuracy_score(y_test,predictions)\n",
    "#print(cm)\n",
    "#print(accuracy)\n"
   ]
  },
  {
   "cell_type": "markdown",
   "metadata": {
    "id": "TXJmJ80DoDw5"
   },
   "source": [
    "#### a) <font color = navy> What is the classification accuracy? Compare the result with the one you got in the previous task **1p**\n",
    "\n",
    "<font color = green> The classification accuracy in this case was 0.754, which is much better than the accuracy we got from the metrics' accuracy score. </font>\n",
    "    \n",
    "#### b) <font color = navy>  Which method gives better evaluation of the performance of the classifier with this data set? Why? 1p\n",
    "\n",
    "<font color = green> The LeaveOneOut() gives better evaluation, because when re-dividing the dataset and re-evaluating everything, we get constantly same result. The scores are calculated by repeating the model and thus getting more reliable results."
   ]
  },
  {
   "cell_type": "markdown",
   "metadata": {
    "id": "88BjCQL6oDw5"
   },
   "source": [
    "____________\n",
    "## <font color = forestgreen> 4. Model selection with leave-one-out cross validation"
   ]
  },
  {
   "cell_type": "markdown",
   "metadata": {
    "id": "A8fcES_LoDw5"
   },
   "source": [
    "- a) Select the best model (kNN with selection of k) using leave-one-out cross validation (Repeat the model performance estimation with values k=1...30). Which value of k produces the best classification accuracy? **2p**\n",
    "- b) If the number of k is still increased, what is the limit that the **1p** classification accuracy approaches? Why?\n",
    "- d) Can you say something about the performance of this *selected* model with new, unseen data? Explain, how you could you estimate the performance of this selected model. **1p** "
   ]
  },
  {
   "cell_type": "code",
   "execution_count": 19,
   "metadata": {
    "id": "RJ7570_ZoDw6",
    "outputId": "91caaf74-2636-46f7-a4e3-4e5ba98e4c4e",
    "scrolled": false
   },
   "outputs": [
    {
     "name": "stdout",
     "output_type": "stream",
     "text": [
      "For k:1 Accuracy is 0.7164179104477612\n",
      "For k:2 Accuracy is 0.746268656716418\n",
      "For k:3 Accuracy is 0.753731343283582\n",
      "For k:4 Accuracy is 0.7686567164179104\n",
      "For k:5 Accuracy is 0.7388059701492538\n",
      "For k:6 Accuracy is 0.753731343283582\n",
      "For k:7 Accuracy is 0.753731343283582\n",
      "For k:8 Accuracy is 0.7388059701492538\n",
      "For k:9 Accuracy is 0.746268656716418\n",
      "For k:10 Accuracy is 0.7388059701492538\n",
      "For k:11 Accuracy is 0.7388059701492538\n",
      "For k:12 Accuracy is 0.7238805970149254\n",
      "For k:13 Accuracy is 0.7164179104477612\n",
      "For k:14 Accuracy is 0.7089552238805971\n",
      "For k:15 Accuracy is 0.7238805970149254\n",
      "For k:16 Accuracy is 0.7164179104477612\n",
      "For k:17 Accuracy is 0.7014925373134329\n",
      "For k:18 Accuracy is 0.7164179104477612\n",
      "For k:19 Accuracy is 0.7313432835820896\n",
      "For k:20 Accuracy is 0.7164179104477612\n",
      "For k:21 Accuracy is 0.7164179104477612\n",
      "For k:22 Accuracy is 0.7164179104477612\n",
      "For k:23 Accuracy is 0.7238805970149254\n",
      "For k:24 Accuracy is 0.7238805970149254\n",
      "For k:25 Accuracy is 0.7238805970149254\n",
      "For k:26 Accuracy is 0.7388059701492538\n",
      "For k:27 Accuracy is 0.7313432835820896\n",
      "For k:28 Accuracy is 0.7313432835820896\n",
      "For k:29 Accuracy is 0.7164179104477612\n",
      "For k:30 Accuracy is 0.7089552238805971\n",
      "0.7686567164179104 where k is 4\n"
     ]
    }
   ],
   "source": [
    "accuracy_scores = []\n",
    "for i in range(1,31):\n",
    "    loo = sklearn.model_selection.LeaveOneOut()\n",
    "    model = sklearn.neighbors.KNeighborsClassifier(n_neighbors=i)\n",
    "\n",
    "    scores = sklearn.model_selection.cross_val_score(model, X, y, cv=loo, n_jobs=-1)\n",
    "    accuracy_scores.append(np.mean(np.absolute(scores)))\n",
    "\n",
    "    print('For k:' + str(i) + ' Accuracy is ' +str(np.mean(np.absolute(scores))))\n",
    "\n",
    "print(str(np.amax(accuracy_scores)) + ' where k is ' + str(np.argmax(accuracy_scores)+1))"
   ]
  },
  {
   "cell_type": "code",
   "execution_count": 20,
   "metadata": {},
   "outputs": [
    {
     "data": {
      "image/png": "[encoded data removed]",
      "text/plain": [
       "<Figure size 720x360 with 1 Axes>"
      ]
     },
     "metadata": {
      "needs_background": "light"
     },
     "output_type": "display_data"
    }
   ],
   "source": [
    "ks = list(range(1,31))\n",
    "plt.figure(figsize=(10,5))\n",
    "plt.ylabel('Accuracy score')\n",
    "plt.xlabel('Number of k:s')\n",
    "plt.title('Accuracy score vs. n:o of k:s')\n",
    "plt.scatter(ks, accuracy_scores, c='navy')\n",
    "plt.show()"
   ]
  },
  {
   "cell_type": "markdown",
   "metadata": {
    "id": "qKsgAEyWoDw6"
   },
   "source": [
    "#### <font color = navy>  a) Which value of k produces the best classification accuracy? **1p**</font>"
   ]
  },
  {
   "cell_type": "markdown",
   "metadata": {},
   "source": [
    "<font color = green> k=4 produces the best accuracy."
   ]
  },
  {
   "cell_type": "markdown",
   "metadata": {},
   "source": [
    "#### <font color = navy> b) If the number of k is still increased, what is the limit that the classification accuracy approaches? Why?"
   ]
  },
  {
   "cell_type": "markdown",
   "metadata": {},
   "source": [
    "<font color = green> The number of k over 30 seems to be setting a descending trend, but leaving us at estimated 0.71 accuracy. This is the limit, because increasing the number of neighbors in this specific data set does not give us anything new."
   ]
  },
  {
   "cell_type": "markdown",
   "metadata": {},
   "source": [
    "#### <font color = navy> c) Can you say something about the performance of this *selected* model with new, unseen data? Explain, how you could you estimate the performance of this selected model. **1p**"
   ]
  },
  {
   "cell_type": "markdown",
   "metadata": {},
   "source": [
    "<font color = green> This specific model does not work too well on this data set, so it most likely would not for others either. Maybe for larger datasets it would be more accurate, but for smaller ones there is little hope."
   ]
  },
  {
   "cell_type": "markdown",
   "metadata": {
    "id": "9r2v1LEDoDw6"
   },
   "source": [
    "________________\n",
    "### <font color = red>  5. Testing with training data <font color = red> (this should never be done out of this exercise!) </font>"
   ]
  },
  {
   "cell_type": "markdown",
   "metadata": {
    "id": "j6B6L5HWoDw6"
   },
   "source": [
    "- Repeat the previous task but use the whole data for training **2p**\n",
    "- Plot the resulting classification accuracy versus k=1...30. **Include the values from the previous task in the same figure**\n",
    "- Comment your result. **Why** shouldn't you test with training data?"
   ]
  },
  {
   "cell_type": "code",
   "execution_count": 21,
   "metadata": {
    "id": "ExWjmjQ5oDw6",
    "outputId": "f7bd8eac-a636-400b-a8a4-9ca269129628",
    "scrolled": false
   },
   "outputs": [],
   "source": [
    "alldata_acc = []\n",
    "for i in range(1,31):\n",
    "    neigh1 = sklearn.neighbors.KNeighborsClassifier(n_neighbors=i)\n",
    "    neigh1.fit(X, y)\n",
    "    predictions1 = neigh.predict(X)\n",
    "\n",
    "    cm = sklearn.metrics.confusion_matrix(y, predictions1, labels=['Cargo', 'Tanker', 'Tug'])\n",
    "    accuracy = sklearn.metrics.accuracy_score(y,predictions1)\n",
    "    alldata_acc.append(accuracy)"
   ]
  },
  {
   "cell_type": "code",
   "execution_count": 22,
   "metadata": {
    "id": "nbBQekY1oDw6",
    "outputId": "3c06f464-b5ed-46ce-994e-251b1486b04c",
    "scrolled": false
   },
   "outputs": [
    {
     "data": {
      "image/png": "[encoded data removed]",
      "text/plain": [
       "<Figure size 720x360 with 1 Axes>"
      ]
     },
     "metadata": {
      "needs_background": "light"
     },
     "output_type": "display_data"
    }
   ],
   "source": [
    "ks = list(range(1,31))\n",
    "plt.figure(figsize=(10,5))\n",
    "plt.ylabel('Accuracy score')\n",
    "plt.xlabel('Number of k:s')\n",
    "plt.title('Accuracy score vs. n:o of k:s')\n",
    "plt.scatter(ks, alldata_acc)\n",
    "plt.show()"
   ]
  },
  {
   "cell_type": "markdown",
   "metadata": {},
   "source": [
    " <font color = green> If you test with training data, you might get either overly optimistic or overly pessimistic results. In this case, there is only little to no variation between different number of neighbours, which implies that the model does not really work. The results are also overly optimistic, since we did not get this good accuracy with the train/test splitted data. "
   ]
  }
 ],
 "metadata": {
  "colab": {
   "name": "DADK2020_ex3_Valtteri_Nieminen.ipynb",
   "provenance": []
  },
  "kernelspec": {
   "display_name": "Python 3",
   "language": "python",
   "name": "python3"
  },
  "language_info": {
   "codemirror_mode": {
    "name": "ipython",
    "version": 3
   },
   "file_extension": ".py",
   "mimetype": "text/x-python",
   "name": "python",
   "nbconvert_exporter": "python",
   "pygments_lexer": "ipython3",
   "version": "3.8.5"
  },
  "toc": {
   "base_numbering": 1,
   "nav_menu": {
    "height": "180px",
    "width": "160px"
   },
   "number_sections": true,
   "sideBar": true,
   "skip_h1_title": true,
   "title_cell": "Table of Contents",
   "title_sidebar": "Contents",
   "toc_cell": false,
   "toc_position": {},
   "toc_section_display": true,
   "toc_window_display": false
  }
 },
 "nbformat": 4,
 "nbformat_minor": 1
}
